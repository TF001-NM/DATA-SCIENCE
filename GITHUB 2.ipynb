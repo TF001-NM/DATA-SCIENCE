{
 "cells": [
  {
   "cell_type": "markdown",
   "id": "0200ffae-0d19-4ede-b89a-8ccfbda43e4b",
   "metadata": {},
   "source": [
    "#Make a new code notebook. \n",
    "#In the notebook make a markdown cell and answer the following 3 questions 1) name one purpose for github; \n",
    "#platform for hosting and sharing code repositories online.  Many publications related to computational and data-driven fields, 
#include GitHub links to share their code and workflows. \n",
    "#2) describe what is version control in your own words and how it could help you in your project;\n",
    "#A version control is system that track changes to your code files and can revert these changes if needed. \n",
    "#It also helps to test multiple versions of code. \n",
    "#3) explain how in a group project (which we are not doing) github could help manage collaboration.\n",
    "#With GitHub, team members can review each other's code or data changes. \n",
    "#It helpe in quality control continuous peer review and collaboration and increase transparency of data management when working in groups."
   ]
  },
  {
   "cell_type": "code",
   "execution_count": null,
   "id": "6fd8db8a-e715-40d2-82ec-5dee05e0dd9c",
   "metadata": {},
   "outputs": [],
   "source": []
  }
 ],
 "metadata": {
  "kernelspec": {
   "display_name": "Python 3 (ipykernel)",
   "language": "python",
   "name": "python3"
  },
  "language_info": {
   "codemirror_mode": {
    "name": "ipython",
    "version": 3
   },
   "file_extension": ".py",
   "mimetype": "text/x-python",
   "name": "python",
   "nbconvert_exporter": "python",
   "pygments_lexer": "ipython3",
   "version": "3.12.5"
  }
 },
 "nbformat": 4,
 "nbformat_minor": 5
}
