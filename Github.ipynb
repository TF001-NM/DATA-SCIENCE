{
 "cells": [
  {
   "cell_type": "code",
   "execution_count": null,
   "id": "42b9998e-c1bb-4bc1-ae3d-8d414000957d",
   "metadata": {},
   "outputs": [],
   "source": [
    "#Make a new code notebook. \n",
    "#In the notebook make a markdown cell and answer the following 3 questions 1) name one purpose for github; \n",
    "#platform for hosting and sharing code repositories online.  Many publications related to computational and data-driven fields, include GitHub links to share their code and workflows. \n",
    "#2) describe what is version control in your own words and how it could help you in your project;\n",
    "#A version control is system that track changes to your code files and can revert these changes if needed. \n",
    "#It also helps to test multiple versions of code. \n",
    "#3) explain how in a group project (which we are not doing) github could help manage collaboration.\n",
    "#It helpe in quality control continuous peer review and collaboration and increase transparency of data management specially when working in groups.\n",
    "#With GitHub, team members can review each other's code or data changes. "
   ]
  }
 ],
 "metadata": {
  "kernelspec": {
   "display_name": "Python 3 (ipykernel)",
   "language": "python",
   "name": "python3"
  },
  "language_info": {
   "codemirror_mode": {
    "name": "ipython",
    "version": 3
   },
   "file_extension": ".py",
   "mimetype": "text/x-python",
   "name": "python",
   "nbconvert_exporter": "python",
   "pygments_lexer": "ipython3",
   "version": "3.12.5"
  }
 },
 "nbformat": 4,
 "nbformat_minor": 5
}
